{
 "cells": [
  {
   "cell_type": "markdown",
   "metadata": {},
   "source": [
    "# [Python 影像處理、影像辨識 - OpenCV 教學 (2) 繪圖功能](https://dinglifenote.com/python-opencv-tutorial-2-drawing/)  \n",
    "\n",
    "程式用到的圖片或影片，都是放在和程式碼同一個資料夾底下，建議執行程式前先準備好。"
   ]
  },
  {
   "cell_type": "markdown",
   "metadata": {},
   "source": [
    "# 繪圖功能"
   ]
  },
  {
   "cell_type": "markdown",
   "metadata": {},
   "source": [
    "## 畫直線\n",
    "\n",
    "line(img, pt1, pt2, color[, thickness[, lineType[, shift]]])\n",
    "* img：要繪圖的影像\n",
    "* pt1：起點\n",
    "* pt2：終點\n",
    "* color：線條顏色，B、G、R格式\n",
    "* thickness：可選參數，線條粗細，預設為1\n",
    "* lineType：線條樣式，預設為LINE_8，可參考[LineTypes](https://docs.opencv.org/4.x/d6/d6e/group__imgproc__draw.html#gaf076ef45de481ac96e0ab3dc2c29a777)\n"
   ]
  },
  {
   "cell_type": "code",
   "execution_count": 35,
   "metadata": {},
   "outputs": [],
   "source": [
    "import cv2\n",
    "\n",
    "# 讀取影像檔案\n",
    "image = cv2.imread(\"Lenna.jpg\")\n",
    "# 畫藍色直線\n",
    "cv2.line(image, (10, 10), (100, 150), (255, 0, 0))\n",
    "# 畫綠色直線\n",
    "cv2.line(image, (200, 10), (10, 300), (0, 255, 0), 2, cv2.LINE_AA)\n",
    "# 顯示影像\n",
    "cv2.imshow(\"Color Image\", image)\n",
    "\n",
    "# 等待按鍵發生\n",
    "cv2.waitKey(0)\n",
    "# 關閉所有視窗\n",
    "cv2.destroyAllWindows()"
   ]
  },
  {
   "cell_type": "markdown",
   "metadata": {},
   "source": [
    "## 畫多邊形\n",
    "\n",
    "polylines(img, pts, isClosed, color[, thickness[, lineType[, shift]]])\n",
    "* img：要繪圖的影像\n",
    "* pts：所有頂點座標\n",
    "* isClosed：True/False值代表第一個頂點和最後一個頂點是否連接\n",
    "* color：線條顏色，B、G、R格式\n",
    "* thickness：可選參數，線條粗細，預設為1\n",
    "* lineType：線條樣式，預設為LINE_8，可參考[LineTypes](https://docs.opencv.org/4.x/d6/d6e/group__imgproc__draw.html#gaf076ef45de481ac96e0ab3dc2c29a777)"
   ]
  },
  {
   "cell_type": "code",
   "execution_count": 77,
   "metadata": {},
   "outputs": [],
   "source": [
    "import cv2\n",
    "import numpy as np\n",
    "\n",
    "# 讀取影像檔案\n",
    "image = cv2.imread(\"Lenna.jpg\")\n",
    "# 畫藍色多邊形\n",
    "cv2.polylines(image, [np.array([[50, 50], [50, 100], [100, 100], [100, 50]])], True, (255, 0, 0), 3)\n",
    "# 畫綠色多邊形\n",
    "cv2.polylines(image, [np.array([[150, 100], [150, 150], [200, 250], [200, 200]])], True, (0, 255, 0), 1)\n",
    "# 顯示影像\n",
    "cv2.imshow(\"Color Image\", image)\n",
    "\n",
    "# 等待按鍵發生\n",
    "cv2.waitKey(0)\n",
    "# 關閉所有視窗\n",
    "cv2.destroyAllWindows()"
   ]
  },
  {
   "cell_type": "markdown",
   "metadata": {},
   "source": [
    "## 畫圓\n",
    "\n",
    "circle(img, center, radius, color[, thickness[, lineType[, shift]]])\n",
    "* img：要繪圖的影像\n",
    "* center：圓心\n",
    "* radius：半徑\n",
    "* color：線條顏色，B、G、R格式\n",
    "* thickness：可選參數，線條粗細，預設為1。正數會畫空心的圓，負數會畫實心的圓 (可用FILLED值取代)。\n",
    "* lineType：線條樣式，預設為LINE_8，可參考[LineTypes](https://docs.opencv.org/4.x/d6/d6e/group__imgproc__draw.html#gaf076ef45de481ac96e0ab3dc2c29a777)"
   ]
  },
  {
   "cell_type": "code",
   "execution_count": 78,
   "metadata": {},
   "outputs": [],
   "source": [
    "import cv2\n",
    "\n",
    "# 讀取影像檔案\n",
    "image = cv2.imread(\"Lenna.jpg\")\n",
    "# 畫藍色空心圓\n",
    "cv2.circle(image, (100, 100), 20, (255, 0, 0))\n",
    "# 畫綠色實心圓\n",
    "cv2.circle(image, (200, 150), 20, (0, 255, 0), cv2.FILLED)\n",
    "# 畫紅色實心圓\n",
    "cv2.circle(image, (150, 200), 30, (0, 0, 255), -1)\n",
    "# 顯示影像\n",
    "cv2.imshow(\"Color Image\", image)\n",
    "\n",
    "# 等待按鍵發生\n",
    "cv2.waitKey(0)\n",
    "# 關閉所有視窗\n",
    "cv2.destroyAllWindows()"
   ]
  },
  {
   "cell_type": "markdown",
   "metadata": {},
   "source": [
    "## 畫橢圓\n",
    "\n",
    "ellipse(img, center, axes, angle, startAngle, endAngle, color[, thickness[, lineType[, shift]]])\n",
    "* img：要繪圖的影像\n",
    "* center：橢圓中心\n",
    "* axes：橢圓的半長軸和半短軸\n",
    "* angle：橢圓旋轉的角度\n",
    "* startAngle：開啟畫弧形的角度\n",
    "* endAngle：結束畫弧形的角度\n",
    "* color：線條顏色，B、G、R格式\n",
    "* thickness：可選參數，線條粗細，預設為1。正數會畫空心的橢圓，負數會畫實心的橢圓 (可用FILLED值取代)。\n",
    "* lineType：線條樣式，預設為LINE_8，可參考[LineTypes](https://docs.opencv.org/4.x/d6/d6e/group__imgproc__draw.html#gaf076ef45de481ac96e0ab3dc2c29a777)"
   ]
  },
  {
   "cell_type": "code",
   "execution_count": 86,
   "metadata": {},
   "outputs": [],
   "source": [
    "import cv2\n",
    "\n",
    "# 讀取影像檔案\n",
    "image = cv2.imread(\"Lenna.jpg\")\n",
    "# 畫藍色空心橢圓\n",
    "cv2.ellipse(image, (int(image.shape[0]/4), int(image.shape[1]/2)), (70, 10), 45, 0, 360, (255, 0, 0))\n",
    "# 畫紅色實心橢圓\n",
    "cv2.ellipse(image, (3*int(image.shape[0]/4), 3*int(image.shape[1]/4)), (50, 10), 90, 0, 360, (0, 0, 255), cv2.FILLED)\n",
    "# 畫綠色圓弧\n",
    "cv2.ellipse(image, (int(image.shape[0]/2), int(image.shape[1]/4)), (70, 35), 0, 0, 270, (0, 255, 0))\n",
    "# 顯示影像\n",
    "cv2.imshow(\"Color Image\", image)\n",
    "\n",
    "# 等待按鍵發生\n",
    "cv2.waitKey(0)\n",
    "# 關閉所有視窗\n",
    "cv2.destroyAllWindows()"
   ]
  },
  {
   "cell_type": "markdown",
   "metadata": {},
   "source": [
    "## 寫文字\n",
    "\n",
    "putText(img, text, org, fontFace, fontScale, color[, thickness[, lineType[, bottomLeftOrigin]]])\n",
    "* img：要繪圖的影像\n",
    "* text：要顯示的文字\n",
    "* org：文字位置\n",
    "* fontFace：字體格式，[HersheyFonts](https://docs.opencv.org/4.x/d6/d6e/group__imgproc__draw.html#ga0f9314ea6e35f99bb23f29567fc16e11)\n",
    "* fontScale：字體大小\n",
    "* color：線條顏色，B、G、R格式\n",
    "* thickness：可選參數，線條粗細，預設為1\n",
    "* lineType：線條樣式，預設為LINE_8，可參考[LineTypes](https://docs.opencv.org/4.x/d6/d6e/group__imgproc__draw.html#gaf076ef45de481ac96e0ab3dc2c29a777)\n",
    "* bottomLeftOrigin：預設是False，設定True會讓字體來源在左下角，會有上下顛倒的效果"
   ]
  },
  {
   "cell_type": "code",
   "execution_count": 89,
   "metadata": {},
   "outputs": [],
   "source": [
    "import cv2\n",
    "\n",
    "# 讀取影像檔案\n",
    "image = cv2.imread(\"Lenna.jpg\")\n",
    "# 寫藍色文字\n",
    "cv2.putText(image, \"test text\", (30, 100), cv2.FONT_HERSHEY_SIMPLEX, 1, (255, 0, 0))\n",
    "# 寫上下顛倒的綠色文字\n",
    "cv2.putText(image, \"test text\", (100, 150), cv2.FONT_HERSHEY_SIMPLEX, 1, (0, 255, 0), bottomLeftOrigin=True)\n",
    "# 顯示影像\n",
    "cv2.imshow(\"Color Image\", image)\n",
    "\n",
    "# 等待按鍵發生\n",
    "cv2.waitKey(0)\n",
    "# 關閉所有視窗\n",
    "cv2.destroyAllWindows()"
   ]
  }
 ],
 "metadata": {
  "kernelspec": {
   "display_name": "Python 3.9.12 ('opencv')",
   "language": "python",
   "name": "python3"
  },
  "language_info": {
   "codemirror_mode": {
    "name": "ipython",
    "version": 3
   },
   "file_extension": ".py",
   "mimetype": "text/x-python",
   "name": "python",
   "nbconvert_exporter": "python",
   "pygments_lexer": "ipython3",
   "version": "3.9.12"
  },
  "orig_nbformat": 4,
  "vscode": {
   "interpreter": {
    "hash": "35da9e837534bdc73d585203100d25478f961ce8f7a3ec4be906308a54aff511"
   }
  }
 },
 "nbformat": 4,
 "nbformat_minor": 2
}
