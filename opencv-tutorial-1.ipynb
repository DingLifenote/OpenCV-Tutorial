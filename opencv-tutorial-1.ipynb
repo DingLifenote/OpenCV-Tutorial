{
 "cells": [
  {
   "cell_type": "markdown",
   "metadata": {},
   "source": [
    "[Python 影像處理、影像辨識 - OpenCV 教學](https://dinglifenote.com/python-opencv-tutorial/)  \n",
    "介紹OpenCV基本功能，建議搭配文章做學習"
   ]
  },
  {
   "cell_type": "markdown",
   "metadata": {},
   "source": [
    "# 安裝OpenCV"
   ]
  },
  {
   "cell_type": "markdown",
   "metadata": {},
   "source": [
    "用命令安裝請使用  \n",
    "pip install opencv-python"
   ]
  },
  {
   "cell_type": "code",
   "execution_count": null,
   "metadata": {},
   "outputs": [],
   "source": [
    "%pip install opencv-python"
   ]
  },
  {
   "cell_type": "markdown",
   "metadata": {},
   "source": [
    "# 導入OpenCV"
   ]
  },
  {
   "cell_type": "code",
   "execution_count": null,
   "metadata": {},
   "outputs": [],
   "source": [
    "import cv2"
   ]
  },
  {
   "cell_type": "markdown",
   "metadata": {},
   "source": [
    "# 讀取圖片"
   ]
  },
  {
   "cell_type": "code",
   "execution_count": null,
   "metadata": {},
   "outputs": [],
   "source": [
    "image = cv2.imread(\"Lenna.jpg\")"
   ]
  },
  {
   "cell_type": "markdown",
   "metadata": {},
   "source": [
    "# 顯示影像"
   ]
  },
  {
   "cell_type": "code",
   "execution_count": null,
   "metadata": {},
   "outputs": [],
   "source": [
    "image = cv2.imread(\"Lenna.jpg\")\n",
    "\n",
    "window_title = \"image\"\n",
    "\n",
    "cv2.imshow(window_title, image)\n",
    "cv2.waitKey(0)\n",
    "cv2.destroyWindow(window_title)"
   ]
  },
  {
   "cell_type": "markdown",
   "metadata": {},
   "source": [
    "# 設定顯示影像視窗"
   ]
  },
  {
   "cell_type": "code",
   "execution_count": null,
   "metadata": {},
   "outputs": [],
   "source": [
    "image = cv2.imread(\"Lenna.jpg\")\n",
    "\n",
    "window_title = \"resize\"\n",
    "\n",
    "cv2.namedWindow(window_title, cv2.WINDOW_GUI_NORMAL)\n",
    "cv2.imshow(window_title, image)\n",
    "cv2.waitKey(0)\n",
    "cv2.destroyWindow(window_title)"
   ]
  },
  {
   "cell_type": "markdown",
   "metadata": {},
   "source": [
    "# 等待鍵盤按鍵的事件"
   ]
  },
  {
   "cell_type": "markdown",
   "metadata": {},
   "source": [
    "等待一秒"
   ]
  },
  {
   "cell_type": "code",
   "execution_count": null,
   "metadata": {},
   "outputs": [],
   "source": [
    "key = cv2.waitKey(1000)"
   ]
  },
  {
   "cell_type": "code",
   "execution_count": null,
   "metadata": {},
   "outputs": [],
   "source": [
    "image = cv2.imread(\"Lenna.jpg\")\n",
    "\n",
    "window_title = \"image\"\n",
    "\n",
    "cv2.imshow(window_title, image)\n",
    "\n",
    "key = cv2.waitKey(0)\n",
    "if key == ord(\"q\"):\n",
    "    print(\"Destroy window\")\n",
    "    cv2.destroyWindow(window_title)\n",
    "else:\n",
    "    print(\"Do not destroy window\")\n",
    "\n",
    "print(f\"key = {key}\")"
   ]
  },
  {
   "cell_type": "markdown",
   "metadata": {},
   "source": [
    "# 關閉影像視窗"
   ]
  },
  {
   "cell_type": "markdown",
   "metadata": {},
   "source": [
    "關閉特定視窗"
   ]
  },
  {
   "cell_type": "code",
   "execution_count": null,
   "metadata": {},
   "outputs": [],
   "source": [
    "cv2.destroyWindow(\"resize\")"
   ]
  },
  {
   "cell_type": "markdown",
   "metadata": {},
   "source": [
    "關閉所有視窗"
   ]
  },
  {
   "cell_type": "code",
   "execution_count": null,
   "metadata": {},
   "outputs": [],
   "source": [
    "image = cv2.imread(\"Lenna.jpg\")\n",
    "\n",
    "cv2.imshow(\"win1\", image)\n",
    "cv2.imshow(\"win2\", image)\n",
    "cv2.waitKey(0)\n",
    "cv2.destroyAllWindows()"
   ]
  },
  {
   "cell_type": "markdown",
   "metadata": {},
   "source": [
    "# 儲存影像"
   ]
  },
  {
   "cell_type": "code",
   "execution_count": null,
   "metadata": {},
   "outputs": [],
   "source": [
    "image = cv2.imread(\"Lenna.jpg\")\n",
    "retval = cv2.imwrite(\"test.jpg\", image)\n",
    "print(retval)"
   ]
  },
  {
   "cell_type": "markdown",
   "metadata": {},
   "source": [
    "# 開啟攝影機或影片"
   ]
  },
  {
   "cell_type": "markdown",
   "metadata": {},
   "source": [
    "開啟攝影機"
   ]
  },
  {
   "cell_type": "code",
   "execution_count": null,
   "metadata": {},
   "outputs": [],
   "source": [
    "camera = cv2.VideoCapture(0)"
   ]
  },
  {
   "cell_type": "markdown",
   "metadata": {},
   "source": [
    "開啟影片檔案"
   ]
  },
  {
   "cell_type": "code",
   "execution_count": null,
   "metadata": {},
   "outputs": [],
   "source": [
    "video = cv2.VideoCapture(\"BigBuckBunny.mp4\")"
   ]
  },
  {
   "cell_type": "markdown",
   "metadata": {},
   "source": [
    "# 判斷影像初始化成功"
   ]
  },
  {
   "cell_type": "code",
   "execution_count": null,
   "metadata": {},
   "outputs": [],
   "source": [
    "video = cv2.VideoCapture(\"BigBuckBunny.mp4\")\n",
    "print(video.isOpened())"
   ]
  },
  {
   "cell_type": "markdown",
   "metadata": {},
   "source": [
    "# 讀取影像"
   ]
  },
  {
   "cell_type": "code",
   "execution_count": null,
   "metadata": {},
   "outputs": [],
   "source": [
    "video = cv2.VideoCapture(\"BigBuckBunny.mp4\")\n",
    "\n",
    "retval, frame = video.read()\n",
    "if retval:\n",
    "    cv2.imshow(\"video\", frame)\n",
    "    cv2.waitKey(0)\n",
    "else:\n",
    "    print(\"No video\")\n",
    "\n",
    "cv2.destroyAllWindows()"
   ]
  },
  {
   "cell_type": "markdown",
   "metadata": {},
   "source": [
    "播放影片直到案下q按鍵"
   ]
  },
  {
   "cell_type": "code",
   "execution_count": null,
   "metadata": {},
   "outputs": [],
   "source": [
    "video = cv2.VideoCapture(\"BigBuckBunny.mp4\")\n",
    "while video.isOpened():\n",
    "    retval, frame = video.read()\n",
    "    if retval:\n",
    "        cv2.imshow(\"video\", frame)\n",
    "    else:\n",
    "        break\n",
    "    key = cv2.waitKey(24)\n",
    "    if ord(\"q\") == key:\n",
    "        break\n",
    "\n",
    "video.release()\n",
    "cv2.destroyAllWindows()"
   ]
  },
  {
   "cell_type": "markdown",
   "metadata": {},
   "source": [
    "# 讀取影像資訊"
   ]
  },
  {
   "cell_type": "code",
   "execution_count": null,
   "metadata": {},
   "outputs": [],
   "source": [
    "video = cv2.VideoCapture(\"BigBuckBunny.mp4\")\n",
    "print(video.get(cv2.CAP_PROP_FRAME_WIDTH))"
   ]
  },
  {
   "cell_type": "markdown",
   "metadata": {},
   "source": [
    "# 關閉攝影機或影片"
   ]
  },
  {
   "cell_type": "code",
   "execution_count": null,
   "metadata": {},
   "outputs": [],
   "source": [
    "video = cv2.VideoCapture(\"BigBuckBunny.mp4\")\n",
    "video.release()"
   ]
  },
  {
   "cell_type": "markdown",
   "metadata": {},
   "source": [
    "# 儲存影片"
   ]
  },
  {
   "cell_type": "markdown",
   "metadata": {},
   "source": [
    "建立VideoWriter_fourcc物件"
   ]
  },
  {
   "cell_type": "code",
   "execution_count": null,
   "metadata": {},
   "outputs": [],
   "source": [
    "fourcc = cv2.VideoWriter_fourcc('M', 'J', 'P', 'G')"
   ]
  },
  {
   "cell_type": "markdown",
   "metadata": {},
   "source": [
    "建立VideoWriter物件"
   ]
  },
  {
   "cell_type": "code",
   "execution_count": null,
   "metadata": {},
   "outputs": [],
   "source": [
    "out = cv2.VideoWriter('output.avi', fourcc, 20.0, (int(video.get(cv2.CAP_PROP_FRAME_WIDTH)),  int(video.get(cv2.CAP_PROP_FRAME_HEIGHT))), isColor = False)"
   ]
  },
  {
   "cell_type": "markdown",
   "metadata": {},
   "source": [
    "寫入影像"
   ]
  },
  {
   "cell_type": "code",
   "execution_count": null,
   "metadata": {},
   "outputs": [],
   "source": [
    "out.write(frame)"
   ]
  },
  {
   "cell_type": "markdown",
   "metadata": {},
   "source": [
    "# 關閉寫入影片"
   ]
  },
  {
   "cell_type": "code",
   "execution_count": null,
   "metadata": {},
   "outputs": [],
   "source": [
    "out.release()"
   ]
  },
  {
   "cell_type": "markdown",
   "metadata": {},
   "source": [
    "可以參考下面範例學習如何儲存影片，範列會先載入影片檔，把每一幀的影像轉成灰階在儲存，最後結束輸出一個output.mp4檔案。"
   ]
  },
  {
   "cell_type": "code",
   "execution_count": null,
   "metadata": {},
   "outputs": [],
   "source": [
    "video = cv2.VideoCapture(\"BigBuckBunny.mp4\")\n",
    "\n",
    "fourcc = cv2.VideoWriter_fourcc(*'MJPG')\n",
    "out = cv2.VideoWriter('output.mp4', fourcc, 20.0, (int(video.get(cv2.CAP_PROP_FRAME_WIDTH)),  int(video.get(cv2.CAP_PROP_FRAME_HEIGHT))), isColor = False)\n",
    "\n",
    "while video.isOpened():\n",
    "    retval, frame = video.read()\n",
    "    if retval:\n",
    "        frame = cv2.cvtColor(frame, cv2.COLOR_BGR2GRAY)\n",
    "        out.write(frame)\n",
    "        cv2.imshow(\"video\", frame)\n",
    "    else:\n",
    "        break\n",
    "    key = cv2.waitKey(1)\n",
    "    if ord(\"q\") == key:\n",
    "        break\n",
    "\n",
    "video.release()\n",
    "out.release()\n",
    "cv2.destroyAllWindows()"
   ]
  }
 ],
 "metadata": {
  "kernelspec": {
   "display_name": "Python 3 (ipykernel)",
   "language": "python",
   "name": "python3"
  },
  "language_info": {
   "codemirror_mode": {
    "name": "ipython",
    "version": 3
   },
   "file_extension": ".py",
   "mimetype": "text/x-python",
   "name": "python",
   "nbconvert_exporter": "python",
   "pygments_lexer": "ipython3",
   "version": "3.9.12"
  },
  "vscode": {
   "interpreter": {
    "hash": "35da9e837534bdc73d585203100d25478f961ce8f7a3ec4be906308a54aff511"
   }
  }
 },
 "nbformat": 4,
 "nbformat_minor": 2
}
