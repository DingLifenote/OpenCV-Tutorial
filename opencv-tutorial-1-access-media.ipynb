{
 "cells": [
  {
   "cell_type": "markdown",
   "metadata": {},
   "source": [
    "# [Python 影像處理、影像辨識 - OpenCV 教學](https://dinglifenote.com/python-opencv-tutorial/)  \n",
    "介紹OpenCV基本功能，建議搭配文章做學習"
   ]
  },
  {
   "cell_type": "markdown",
   "metadata": {},
   "source": [
    "# 安裝OpenCV"
   ]
  },
  {
   "cell_type": "markdown",
   "metadata": {},
   "source": [
    "用命令安裝請使用  \n",
    "pip install opencv-python"
   ]
  },
  {
   "cell_type": "code",
   "execution_count": null,
   "metadata": {},
   "outputs": [],
   "source": [
    "%pip install opencv-python"
   ]
  },
  {
   "cell_type": "markdown",
   "metadata": {},
   "source": [
    "# 導入OpenCV"
   ]
  },
  {
   "cell_type": "code",
   "execution_count": null,
   "metadata": {},
   "outputs": [],
   "source": [
    "import cv2"
   ]
  },
  {
   "cell_type": "markdown",
   "metadata": {},
   "source": [
    "導入OpenCV後，有時候會遇到在編輯程式碼時，找不到原始碼定義，也沒有程式碼提示，這時候我們會需要修改OpenCV的程式碼來解決，以Visual Studio Code作為，上面的cv2按下F12，會跳到OpenCV的__init__.py檔案，最前面的幾行程式碼會像下面一樣。"
   ]
  },
  {
   "cell_type": "code",
   "execution_count": null,
   "metadata": {},
   "outputs": [],
   "source": [
    "'''\n",
    "OpenCV Python binary extension loader\n",
    "'''\n",
    "import os\n",
    "import importlib\n",
    "import sys\n",
    "\n",
    "__all__ = []"
   ]
  },
  {
   "cell_type": "markdown",
   "metadata": {},
   "source": [
    "手動加入下面2行。改完檔案之後，重新開啟Visual Studio Code，就可以正常找到OpenCV程式碼的定義了。"
   ]
  },
  {
   "cell_type": "code",
   "execution_count": null,
   "metadata": {},
   "outputs": [],
   "source": [
    "'''\n",
    "OpenCV Python binary extension loader\n",
    "'''\n",
    "import os\n",
    "import importlib\n",
    "import sys\n",
    "#加入下面2行\n",
    "os.environ[\"PATH\"] += os.pathsep + os.path.dirname(os.path.realpath(__file__))\n",
    "from .cv2 import *\n",
    "__all__ = []"
   ]
  },
  {
   "cell_type": "markdown",
   "metadata": {},
   "source": [
    "# 圖片"
   ]
  },
  {
   "cell_type": "markdown",
   "metadata": {},
   "source": [
    "## 讀取圖片\n",
    "\n",
    "image = imread(filename[, flags])\n",
    "\n",
    "* image：回傳的影像物件\n",
    "* filename：影像絕對路徑，只有檔案名稱的話，會是現在的資料夾\n",
    "* flags：可選參數，指定用什麼方式讀取圖片，定義的常數可以參考下面表格，定義參考[ImreadModes](https://docs.opencv.org/4.x/d8/d6a/group__imgcodecs__flags.html#ga61d9b0126a3e57d9277ac48327799c80)\n",
    "\n",
    "| 常數 | 值 | 說明 |\n",
    "| :----| :---- | :---- |\n",
    "| IMREAD_UNCHANGED | -1 | 用原本方式讀取影像 (有alpha通道會保留) |\n",
    "| IMREAD_GRAYSCALE | 0 | 影像轉為灰階 |\n",
    "| IMREAD_COLOR | 1 | 影像轉為BGR |\n",
    "| IMREAD_ANYDEPTH | 2 | 影像有16/32位元，則回傳對應深度影像，沒有的話則轉為8位元 |\n",
    "| IMREAD_ANYCOLOR | 4 | 用任何可能方式讀取影像 |\n",
    "| IMREAD_LOAD_GDAL | 8 | 用gdal驅動讀取影像 |\n",
    "| IMREAD_REDUCED_GRAYSCALE_2 | 16 | 影像轉為灰階，再縮小1/2 |\n",
    "| IMREAD_REDUCED_COLOR_2 | 17 | 影像轉為BGR，再縮小1/2 |\n",
    "| IMREAD_REDUCED_GRAYSCALE_4 | 32 | 影像轉為灰階，再縮小1/4 |\n",
    "| IMREAD_REDUCED_COLOR_4 | 33 | 影像轉為BGR，再縮小1/4 |\n",
    "| IMREAD_REDUCED_GRAYSCALE_8 | 64 | 影像轉為灰階，再縮小1/8 |\n",
    "| IMREAD_CIMREAD_REDUCED_COLOR_8OLOR | 65 | 影像轉為BGR，再縮小1/8 |\n",
    "| IMREAD_IGNORE_ORIENTATION | 128 | 不根據EXIF資訊旋轉影像 |"
   ]
  },
  {
   "cell_type": "code",
   "execution_count": null,
   "metadata": {},
   "outputs": [],
   "source": [
    "import cv2\n",
    "\n",
    "# 讀取影像檔案\n",
    "image = cv2.imread(\"Lenna.jpg\")"
   ]
  },
  {
   "cell_type": "markdown",
   "metadata": {},
   "source": [
    "## 顯示圖片\n",
    "\n",
    "imshow(winname, mat)\n",
    "* winname：顯示圖片的視窗名稱\n",
    "* mat：要顯示的圖片\n",
    "\n",
    "如果單純使用imshow()，容易造成跳出來的影像視窗沒有回應，需要搭配waitKey()去等待鍵盤事件發生，再利用destroyWindow或destroyAllWindows去關閉視窗。"
   ]
  },
  {
   "cell_type": "code",
   "execution_count": null,
   "metadata": {},
   "outputs": [],
   "source": [
    "import cv2\n",
    "\n",
    "# 讀取影像檔案\n",
    "image = cv2.imread(\"Lenna.jpg\")\n",
    "# 定義視窗名稱\n",
    "window_title = \"image\"\n",
    "# 顯示圖片\n",
    "cv2.imshow(window_title, image)\n",
    "# 等待按鍵事件\n",
    "cv2.waitKey(0)\n",
    "# 關閉視窗\n",
    "cv2.destroyWindow(window_title)"
   ]
  },
  {
   "cell_type": "markdown",
   "metadata": {},
   "source": [
    "## 設定顯示圖片視窗\n",
    "\n",
    "使用imshow()顯示影像，視窗的預設設定是無法讓使用者調整大小的，我們可以使用namedWindow()對視窗做設定。\n",
    "\n",
    "namedWindow(winname[, flags])\n",
    "* winname：顯示影像的視窗名稱\n",
    "* flags：視窗旗標，比較常用的有下面這幾種，定義參考[WindowFlags](https://docs.opencv.org/4.x/d0/d90/group__highgui__window__flags.html#gabf7d2c5625bc59ac130287f925557ac3)\n",
    "\n",
    "| 常數 | 說明 |\n",
    "| :----| :---- |\n",
    "| WINDOW_NORMAL | 可以調整大小 |\n",
    "| WINDOW_AUTOSIZE | 預設設定，不能調整大小，視窗會根據影像大小自動調整 |\n",
    "| WINDOW_OPENGL | 視窗用OpenGL支援開啟 |"
   ]
  },
  {
   "cell_type": "code",
   "execution_count": null,
   "metadata": {},
   "outputs": [],
   "source": [
    "import cv2\n",
    "\n",
    "# 讀取影像檔案\n",
    "image = cv2.imread(\"Lenna.jpg\")\n",
    "# 定義視窗名稱\n",
    "window_title = \"resize\"\n",
    "# 設定顯示圖片視窗\n",
    "cv2.namedWindow(window_title, cv2.WINDOW_GUI_NORMAL)\n",
    "# 顯示圖片\n",
    "cv2.imshow(window_title, image)\n",
    "# 無限等待按鍵事件\n",
    "cv2.waitKey(0)\n",
    "# 關閉視窗\n",
    "cv2.destroyWindow(window_title)"
   ]
  },
  {
   "cell_type": "markdown",
   "metadata": {},
   "source": [
    "## 等待鍵盤按鍵的事件\n",
    "\n",
    "retval = waitKey([, delay])\n",
    "* retval：回傳被按的按鍵的ASCII碼，如果等待時間內沒有按鍵被按下，則回傳-1\n",
    "* delay：指定等待多少毫秒。如果傳入0會是特別值，會無限等待"
   ]
  },
  {
   "cell_type": "code",
   "execution_count": null,
   "metadata": {},
   "outputs": [],
   "source": [
    "import cv2\n",
    "\n",
    "# 在1秒內，等待按鍵事件\n",
    "key = cv2.waitKey(1000)"
   ]
  },
  {
   "cell_type": "markdown",
   "metadata": {},
   "source": [
    "可以搭配ord()函數，來判斷使用者是不是按下了特定按鍵。"
   ]
  },
  {
   "cell_type": "code",
   "execution_count": null,
   "metadata": {},
   "outputs": [],
   "source": [
    "import cv2\n",
    "\n",
    "# 讀取影像檔案\n",
    "image = cv2.imread(\"Lenna.jpg\")\n",
    "# 定義視窗名稱\n",
    "window_title = \"image\"\n",
    "# 顯示圖片\n",
    "cv2.imshow(window_title, image)\n",
    "# 無限等待按鍵事件\n",
    "key = cv2.waitKey(0)\n",
    "\n",
    "if key == ord(\"q\"):\n",
    "    # 按鍵是q鍵，關閉視窗\n",
    "    print(\"Destroy window\")\n",
    "    cv2.destroyWindow(window_title)\n",
    "else:\n",
    "    # 按鍵不是q鍵，不關閉視窗\n",
    "    print(\"Do not destroy window\")\n",
    "# 印出按鍵\n",
    "print(f\"key = {key}\")"
   ]
  },
  {
   "cell_type": "markdown",
   "metadata": {},
   "source": [
    "## 關閉顯示視窗\n",
    "\n",
    "根據影像視窗名稱，關閉指定影像視窗  \n",
    "  \n",
    "destroyWindow(winname)\n",
    "* winname：要關閉的視窗名稱"
   ]
  },
  {
   "cell_type": "code",
   "execution_count": null,
   "metadata": {},
   "outputs": [],
   "source": [
    "import cv2\n",
    "\n",
    "# 讀取影像檔案\n",
    "image = cv2.imread(\"Lenna.jpg\")\n",
    "# 定義視窗名稱\n",
    "window_title = \"image\"\n",
    "# 顯示圖片\n",
    "cv2.imshow(window_title, image)\n",
    "# 等待按鍵事件\n",
    "cv2.waitKey(0)\n",
    "# 關閉視窗\n",
    "cv2.destroyWindow(window_title)"
   ]
  },
  {
   "cell_type": "markdown",
   "metadata": {},
   "source": [
    "關閉所有顯示視窗\n",
    "\n",
    "destroyAllWindows()"
   ]
  },
  {
   "cell_type": "code",
   "execution_count": null,
   "metadata": {},
   "outputs": [],
   "source": [
    "import cv2\n",
    "\n",
    "# 讀取影像檔案\n",
    "image = cv2.imread(\"Lenna.jpg\")\n",
    "# 顯示圖片\n",
    "cv2.imshow(\"win1\", image)\n",
    "# 顯示圖片\n",
    "cv2.imshow(\"win2\", image)\n",
    "# 等待按鍵事件\n",
    "cv2.waitKey(0)\n",
    "# 關閉所有顯示視窗\n",
    "cv2.destroyAllWindows()"
   ]
  },
  {
   "cell_type": "markdown",
   "metadata": {},
   "source": [
    "## 儲存圖片\n",
    "\n",
    "retval = imwrite(filename, img[, params])\n",
    "* retval：回傳True/False，表示儲存成功或失敗\n",
    "* filename：儲存影像的絕對路徑，只有檔案名稱的話，會是現在的資料夾\n",
    "* img：要儲存的影像物件"
   ]
  },
  {
   "cell_type": "code",
   "execution_count": null,
   "metadata": {},
   "outputs": [],
   "source": [
    "import cv2\n",
    "\n",
    "# 讀取影像檔案\n",
    "image = cv2.imread(\"Lenna.jpg\")\n",
    "# 儲存圖片\n",
    "retval = cv2.imwrite(\"test.jpg\", image)\n",
    "# 印出執行是否成功\n",
    "print(retval)"
   ]
  },
  {
   "cell_type": "markdown",
   "metadata": {},
   "source": [
    "# 影片"
   ]
  },
  {
   "cell_type": "markdown",
   "metadata": {},
   "source": [
    "## 開啟攝影機或影片"
   ]
  },
  {
   "cell_type": "markdown",
   "metadata": {},
   "source": [
    "開啟攝影機\n",
    "\n",
    "retval = cv2.VideoCapture(index)\n",
    "* retval：回傳VideoCapture物件\n",
    "* index：指定開啟第x個攝影機，數字從0開始"
   ]
  },
  {
   "cell_type": "code",
   "execution_count": null,
   "metadata": {},
   "outputs": [],
   "source": [
    "import cv2\n",
    "\n",
    "# 開啟索引為0的攝影機\n",
    "camera = cv2.VideoCapture(0)"
   ]
  },
  {
   "cell_type": "markdown",
   "metadata": {},
   "source": [
    "開啟影片檔案\n",
    "\n",
    "retval = cv2.VideoCapture(filename)\n",
    "* retval：回傳VideoCapture物件\n",
    "* filename：影片檔案完整路徑"
   ]
  },
  {
   "cell_type": "code",
   "execution_count": null,
   "metadata": {},
   "outputs": [],
   "source": [
    "import cv2\n",
    "\n",
    "# 開啟影片檔案\n",
    "video = cv2.VideoCapture(\"BigBuckBunny.mp4\")"
   ]
  },
  {
   "cell_type": "markdown",
   "metadata": {},
   "source": [
    "## 判斷影像初始化成功\n",
    "\n",
    "retval = VideoCapture.isOpened()\n",
    "* retval：回傳True/False，判斷影片是否成功初始化"
   ]
  },
  {
   "cell_type": "code",
   "execution_count": null,
   "metadata": {},
   "outputs": [],
   "source": [
    "import cv2\n",
    "\n",
    "# 開啟影片檔案\n",
    "video = cv2.VideoCapture(\"BigBuckBunny.mp4\")\n",
    "# 印出是否成功開啟\n",
    "print(video.isOpened())"
   ]
  },
  {
   "cell_type": "markdown",
   "metadata": {},
   "source": [
    "## 讀取影片影像\n",
    "\n",
    "retval, image = VideoCapture.read()\n",
    "* retval：回傳True/False，判斷是否成功抓取到影片的圖像\n",
    "* image：影片幀"
   ]
  },
  {
   "cell_type": "code",
   "execution_count": null,
   "metadata": {},
   "outputs": [],
   "source": [
    "import cv2\n",
    "\n",
    "# 開啟影片檔案\n",
    "video = cv2.VideoCapture(\"BigBuckBunny.mp4\")\n",
    "\n",
    "# 讀取影片影像\n",
    "retval, frame = video.read()\n",
    "if retval:\n",
    "    # 顯示圖片\n",
    "    cv2.imshow(\"video\", frame)\n",
    "    # 等待按鍵事件\n",
    "    cv2.waitKey(0)\n",
    "else:\n",
    "    # 讀取失敗\n",
    "    print(\"No video\")\n",
    "# 關閉所有顯示視窗\n",
    "cv2.destroyAllWindows()"
   ]
  },
  {
   "cell_type": "markdown",
   "metadata": {},
   "source": [
    "播放影片直到案下q按鍵"
   ]
  },
  {
   "cell_type": "code",
   "execution_count": null,
   "metadata": {},
   "outputs": [],
   "source": [
    "import cv2\n",
    "\n",
    "# 開啟影片檔案\n",
    "video = cv2.VideoCapture(\"BigBuckBunny.mp4\")\n",
    "# 判斷影片是否成功開啟\n",
    "while video.isOpened():\n",
    "    # 讀取影片影像\n",
    "    retval, frame = video.read()\n",
    "    if retval:\n",
    "        # 顯示圖片\n",
    "        cv2.imshow(\"video\", frame)\n",
    "    else:\n",
    "        # 讀取失敗\n",
    "        break\n",
    "    # 等待按鍵事件，等待時間會是影片撥放速度\n",
    "    key = cv2.waitKey(24)\n",
    "    if ord(\"q\") == key:\n",
    "        # 按鍵是q就停止讀取影片\n",
    "        break\n",
    "\n",
    "# 關閉攝影機或影片\n",
    "video.release()\n",
    "# 關閉所有顯示視窗\n",
    "cv2.destroyAllWindows()"
   ]
  },
  {
   "cell_type": "markdown",
   "metadata": {},
   "source": [
    "## 讀取影片資訊\n",
    "\n",
    "retval = VideoCapture.get(propId)\n",
    "* retval：回傳特定屬性值\n",
    "* propId：屬性識別碼，下面是比較常用的屬性，詳細列表可以參考[VideoCaptureProperties](https://docs.opencv.org/4.x/d4/d15/group__videoio__flags__base.html#gaeb8dd9c89c10a5c63c139bf7c4f5704d)\n",
    "\n",
    "| 常數 | 說明 |\n",
    "| :----| :---- |\n",
    "| CAP_PROP_POS_MSEC | 影片位置，以毫秒為單位 |\n",
    "| CAP_PROP_FRAME_WIDTH | 影像寬度 |\n",
    "| CAP_PROP_FRAME_HEIGHT | 影像高度 |\n",
    "| CAP_PROP_FPS | 影格率 |\n",
    "| CAP_PROP_FRAME_COUNT | 影片的的幀數 |"
   ]
  },
  {
   "cell_type": "code",
   "execution_count": null,
   "metadata": {},
   "outputs": [],
   "source": [
    "import cv2\n",
    "\n",
    "# 開啟影片檔案\n",
    "video = cv2.VideoCapture(\"BigBuckBunny.mp4\")\n",
    "# 印出影片影像寬度\n",
    "print(video.get(cv2.CAP_PROP_FRAME_WIDTH))"
   ]
  },
  {
   "cell_type": "markdown",
   "metadata": {},
   "source": [
    "## 關閉攝影機或影片\n",
    "\n",
    "VideoCapture.release()\n",
    "\n",
    "建立好的VideoCapture物件，如果不需要再使用的話，強烈建議記得使用release()做關閉。"
   ]
  },
  {
   "cell_type": "code",
   "execution_count": null,
   "metadata": {},
   "outputs": [],
   "source": [
    "import cv2\n",
    "\n",
    "# 開啟影片檔案\n",
    "video = cv2.VideoCapture(\"BigBuckBunny.mp4\")\n",
    "# 關閉攝影機或影片\n",
    "video.release()"
   ]
  },
  {
   "cell_type": "markdown",
   "metadata": {},
   "source": [
    "## 儲存影片\n",
    "\n",
    "retval = VideoWriter(filename, fourcc, fps, frameSize[, isColor])\n",
    "* retval：回傳VideoWriter物件\n",
    "* filename：影片檔案完整路徑\n",
    "* fourcc：傳入VideoWriter_fourcc()物件，FourCC的編解碼格式\n",
    "* fps：影片幀的速度\n",
    "* frameSize：影像的大小\n",
    "* isColor：可選參數，是否為彩色"
   ]
  },
  {
   "cell_type": "markdown",
   "metadata": {},
   "source": [
    "建立VideoWriter_fourcc物件\n",
    "\n",
    "VideoWriter_fourcc(c1, c2, c3, c4)\n",
    "* c1, c2, c3, c4：FourCC的4個字元，可以參考[連結](http://abcavi.kibi.ru/fourcc.php)，看一下FourCC有哪些編解碼格式"
   ]
  },
  {
   "cell_type": "code",
   "execution_count": null,
   "metadata": {},
   "outputs": [],
   "source": [
    "fourcc = cv2.VideoWriter_fourcc('M', 'J', 'P', 'G')"
   ]
  },
  {
   "cell_type": "markdown",
   "metadata": {},
   "source": [
    "除了分別傳入字元，也可以用下面的格式一次全部傳入。"
   ]
  },
  {
   "cell_type": "code",
   "execution_count": null,
   "metadata": {},
   "outputs": [],
   "source": [
    "fourcc = cv2.VideoWriter_fourcc(*'MJPG')"
   ]
  },
  {
   "cell_type": "markdown",
   "metadata": {},
   "source": [
    "建立VideoWriter物件"
   ]
  },
  {
   "cell_type": "code",
   "execution_count": null,
   "metadata": {},
   "outputs": [],
   "source": [
    "out = cv2.VideoWriter('output.avi', fourcc, 20.0, (int(video.get(cv2.CAP_PROP_FRAME_WIDTH)),  int(video.get(cv2.CAP_PROP_FRAME_HEIGHT))), isColor = False)"
   ]
  },
  {
   "cell_type": "markdown",
   "metadata": {},
   "source": [
    "### 寫入影像\n",
    "\n",
    "VideoWriter.write(image)\n",
    "* image：要儲存的影像"
   ]
  },
  {
   "cell_type": "code",
   "execution_count": null,
   "metadata": {},
   "outputs": [],
   "source": [
    "out.write(frame)"
   ]
  },
  {
   "cell_type": "markdown",
   "metadata": {},
   "source": [
    "### 關閉寫入影片\n",
    "\n",
    "VideoWriter.release()\n",
    "\n",
    "建立好的VideoWriter，在用不到時需要呼叫release()"
   ]
  },
  {
   "cell_type": "code",
   "execution_count": null,
   "metadata": {},
   "outputs": [],
   "source": [
    "out.release()"
   ]
  },
  {
   "cell_type": "markdown",
   "metadata": {},
   "source": [
    "可以參考下面範例學習如何儲存影片，範列會先載入影片檔，把每一幀的影像轉成灰階在儲存，最後結束輸出一個output.mp4檔案。"
   ]
  },
  {
   "cell_type": "code",
   "execution_count": null,
   "metadata": {},
   "outputs": [],
   "source": [
    "video = cv2.VideoCapture(\"BigBuckBunny.mp4\")\n",
    "\n",
    "fourcc = cv2.VideoWriter_fourcc(*'MJPG')\n",
    "out = cv2.VideoWriter('output.mp4', fourcc, 20.0, (int(video.get(cv2.CAP_PROP_FRAME_WIDTH)),  int(video.get(cv2.CAP_PROP_FRAME_HEIGHT))), isColor = False)\n",
    "\n",
    "while video.isOpened():\n",
    "    retval, frame = video.read()\n",
    "    if retval:\n",
    "        frame = cv2.cvtColor(frame, cv2.COLOR_BGR2GRAY)\n",
    "        out.write(frame)\n",
    "        cv2.imshow(\"video\", frame)\n",
    "    else:\n",
    "        break\n",
    "    key = cv2.waitKey(1)\n",
    "    if ord(\"q\") == key:\n",
    "        break\n",
    "\n",
    "video.release()\n",
    "out.release()\n",
    "cv2.destroyAllWindows()"
   ]
  }
 ],
 "metadata": {
  "kernelspec": {
   "display_name": "Python 3 (ipykernel)",
   "language": "python",
   "name": "python3"
  },
  "language_info": {
   "codemirror_mode": {
    "name": "ipython",
    "version": 3
   },
   "file_extension": ".py",
   "mimetype": "text/x-python",
   "name": "python",
   "nbconvert_exporter": "python",
   "pygments_lexer": "ipython3",
   "version": "3.9.12"
  },
  "vscode": {
   "interpreter": {
    "hash": "35da9e837534bdc73d585203100d25478f961ce8f7a3ec4be906308a54aff511"
   }
  }
 },
 "nbformat": 4,
 "nbformat_minor": 2
}
